{
  "cells": [
    {
      "cell_type": "markdown",
      "metadata": {
        "id": "p72XUH5qCq0m"
      },
      "source": [
        "## Preprocessing"
      ]
    },
    {
      "cell_type": "code",
      "execution_count": 1,
      "metadata": {
        "colab": {
          "base_uri": "https://localhost:8080/",
          "height": 451
        },
        "id": "h7EDCcEqCq0o",
        "outputId": "57b1882b-110b-466f-c7ee-3b44c1c4e7db"
      },
      "outputs": [
        {
          "output_type": "execute_result",
          "data": {
            "text/plain": [
              "        EIN                                      NAME APPLICATION_TYPE  \\\n",
              "0  10520599              BLUE KNIGHTS MOTORCYCLE CLUB              T10   \n",
              "1  10531628    AMERICAN CHESAPEAKE CLUB CHARITABLE TR               T3   \n",
              "2  10547893        ST CLOUD PROFESSIONAL FIREFIGHTERS               T5   \n",
              "3  10553066            SOUTHSIDE ATHLETIC ASSOCIATION               T3   \n",
              "4  10556103  GENETIC RESEARCH INSTITUTE OF THE DESERT               T3   \n",
              "\n",
              "        AFFILIATION CLASSIFICATION      USE_CASE  ORGANIZATION  STATUS  \\\n",
              "0       Independent          C1000    ProductDev   Association       1   \n",
              "1       Independent          C2000  Preservation  Co-operative       1   \n",
              "2  CompanySponsored          C3000    ProductDev   Association       1   \n",
              "3  CompanySponsored          C2000  Preservation         Trust       1   \n",
              "4       Independent          C1000     Heathcare         Trust       1   \n",
              "\n",
              "      INCOME_AMT SPECIAL_CONSIDERATIONS  ASK_AMT  IS_SUCCESSFUL  \n",
              "0              0                      N     5000              1  \n",
              "1         1-9999                      N   108590              1  \n",
              "2              0                      N     5000              0  \n",
              "3    10000-24999                      N     6692              1  \n",
              "4  100000-499999                      N   142590              1  "
            ],
            "text/html": [
              "\n",
              "  <div id=\"df-f9d3b962-7e67-47a5-90c9-7283e8b407f5\" class=\"colab-df-container\">\n",
              "    <div>\n",
              "<style scoped>\n",
              "    .dataframe tbody tr th:only-of-type {\n",
              "        vertical-align: middle;\n",
              "    }\n",
              "\n",
              "    .dataframe tbody tr th {\n",
              "        vertical-align: top;\n",
              "    }\n",
              "\n",
              "    .dataframe thead th {\n",
              "        text-align: right;\n",
              "    }\n",
              "</style>\n",
              "<table border=\"1\" class=\"dataframe\">\n",
              "  <thead>\n",
              "    <tr style=\"text-align: right;\">\n",
              "      <th></th>\n",
              "      <th>EIN</th>\n",
              "      <th>NAME</th>\n",
              "      <th>APPLICATION_TYPE</th>\n",
              "      <th>AFFILIATION</th>\n",
              "      <th>CLASSIFICATION</th>\n",
              "      <th>USE_CASE</th>\n",
              "      <th>ORGANIZATION</th>\n",
              "      <th>STATUS</th>\n",
              "      <th>INCOME_AMT</th>\n",
              "      <th>SPECIAL_CONSIDERATIONS</th>\n",
              "      <th>ASK_AMT</th>\n",
              "      <th>IS_SUCCESSFUL</th>\n",
              "    </tr>\n",
              "  </thead>\n",
              "  <tbody>\n",
              "    <tr>\n",
              "      <th>0</th>\n",
              "      <td>10520599</td>\n",
              "      <td>BLUE KNIGHTS MOTORCYCLE CLUB</td>\n",
              "      <td>T10</td>\n",
              "      <td>Independent</td>\n",
              "      <td>C1000</td>\n",
              "      <td>ProductDev</td>\n",
              "      <td>Association</td>\n",
              "      <td>1</td>\n",
              "      <td>0</td>\n",
              "      <td>N</td>\n",
              "      <td>5000</td>\n",
              "      <td>1</td>\n",
              "    </tr>\n",
              "    <tr>\n",
              "      <th>1</th>\n",
              "      <td>10531628</td>\n",
              "      <td>AMERICAN CHESAPEAKE CLUB CHARITABLE TR</td>\n",
              "      <td>T3</td>\n",
              "      <td>Independent</td>\n",
              "      <td>C2000</td>\n",
              "      <td>Preservation</td>\n",
              "      <td>Co-operative</td>\n",
              "      <td>1</td>\n",
              "      <td>1-9999</td>\n",
              "      <td>N</td>\n",
              "      <td>108590</td>\n",
              "      <td>1</td>\n",
              "    </tr>\n",
              "    <tr>\n",
              "      <th>2</th>\n",
              "      <td>10547893</td>\n",
              "      <td>ST CLOUD PROFESSIONAL FIREFIGHTERS</td>\n",
              "      <td>T5</td>\n",
              "      <td>CompanySponsored</td>\n",
              "      <td>C3000</td>\n",
              "      <td>ProductDev</td>\n",
              "      <td>Association</td>\n",
              "      <td>1</td>\n",
              "      <td>0</td>\n",
              "      <td>N</td>\n",
              "      <td>5000</td>\n",
              "      <td>0</td>\n",
              "    </tr>\n",
              "    <tr>\n",
              "      <th>3</th>\n",
              "      <td>10553066</td>\n",
              "      <td>SOUTHSIDE ATHLETIC ASSOCIATION</td>\n",
              "      <td>T3</td>\n",
              "      <td>CompanySponsored</td>\n",
              "      <td>C2000</td>\n",
              "      <td>Preservation</td>\n",
              "      <td>Trust</td>\n",
              "      <td>1</td>\n",
              "      <td>10000-24999</td>\n",
              "      <td>N</td>\n",
              "      <td>6692</td>\n",
              "      <td>1</td>\n",
              "    </tr>\n",
              "    <tr>\n",
              "      <th>4</th>\n",
              "      <td>10556103</td>\n",
              "      <td>GENETIC RESEARCH INSTITUTE OF THE DESERT</td>\n",
              "      <td>T3</td>\n",
              "      <td>Independent</td>\n",
              "      <td>C1000</td>\n",
              "      <td>Heathcare</td>\n",
              "      <td>Trust</td>\n",
              "      <td>1</td>\n",
              "      <td>100000-499999</td>\n",
              "      <td>N</td>\n",
              "      <td>142590</td>\n",
              "      <td>1</td>\n",
              "    </tr>\n",
              "  </tbody>\n",
              "</table>\n",
              "</div>\n",
              "    <div class=\"colab-df-buttons\">\n",
              "\n",
              "  <div class=\"colab-df-container\">\n",
              "    <button class=\"colab-df-convert\" onclick=\"convertToInteractive('df-f9d3b962-7e67-47a5-90c9-7283e8b407f5')\"\n",
              "            title=\"Convert this dataframe to an interactive table.\"\n",
              "            style=\"display:none;\">\n",
              "\n",
              "  <svg xmlns=\"http://www.w3.org/2000/svg\" height=\"24px\" viewBox=\"0 -960 960 960\">\n",
              "    <path d=\"M120-120v-720h720v720H120Zm60-500h600v-160H180v160Zm220 220h160v-160H400v160Zm0 220h160v-160H400v160ZM180-400h160v-160H180v160Zm440 0h160v-160H620v160ZM180-180h160v-160H180v160Zm440 0h160v-160H620v160Z\"/>\n",
              "  </svg>\n",
              "    </button>\n",
              "\n",
              "  <style>\n",
              "    .colab-df-container {\n",
              "      display:flex;\n",
              "      gap: 12px;\n",
              "    }\n",
              "\n",
              "    .colab-df-convert {\n",
              "      background-color: #E8F0FE;\n",
              "      border: none;\n",
              "      border-radius: 50%;\n",
              "      cursor: pointer;\n",
              "      display: none;\n",
              "      fill: #1967D2;\n",
              "      height: 32px;\n",
              "      padding: 0 0 0 0;\n",
              "      width: 32px;\n",
              "    }\n",
              "\n",
              "    .colab-df-convert:hover {\n",
              "      background-color: #E2EBFA;\n",
              "      box-shadow: 0px 1px 2px rgba(60, 64, 67, 0.3), 0px 1px 3px 1px rgba(60, 64, 67, 0.15);\n",
              "      fill: #174EA6;\n",
              "    }\n",
              "\n",
              "    .colab-df-buttons div {\n",
              "      margin-bottom: 4px;\n",
              "    }\n",
              "\n",
              "    [theme=dark] .colab-df-convert {\n",
              "      background-color: #3B4455;\n",
              "      fill: #D2E3FC;\n",
              "    }\n",
              "\n",
              "    [theme=dark] .colab-df-convert:hover {\n",
              "      background-color: #434B5C;\n",
              "      box-shadow: 0px 1px 3px 1px rgba(0, 0, 0, 0.15);\n",
              "      filter: drop-shadow(0px 1px 2px rgba(0, 0, 0, 0.3));\n",
              "      fill: #FFFFFF;\n",
              "    }\n",
              "  </style>\n",
              "\n",
              "    <script>\n",
              "      const buttonEl =\n",
              "        document.querySelector('#df-f9d3b962-7e67-47a5-90c9-7283e8b407f5 button.colab-df-convert');\n",
              "      buttonEl.style.display =\n",
              "        google.colab.kernel.accessAllowed ? 'block' : 'none';\n",
              "\n",
              "      async function convertToInteractive(key) {\n",
              "        const element = document.querySelector('#df-f9d3b962-7e67-47a5-90c9-7283e8b407f5');\n",
              "        const dataTable =\n",
              "          await google.colab.kernel.invokeFunction('convertToInteractive',\n",
              "                                                    [key], {});\n",
              "        if (!dataTable) return;\n",
              "\n",
              "        const docLinkHtml = 'Like what you see? Visit the ' +\n",
              "          '<a target=\"_blank\" href=https://colab.research.google.com/notebooks/data_table.ipynb>data table notebook</a>'\n",
              "          + ' to learn more about interactive tables.';\n",
              "        element.innerHTML = '';\n",
              "        dataTable['output_type'] = 'display_data';\n",
              "        await google.colab.output.renderOutput(dataTable, element);\n",
              "        const docLink = document.createElement('div');\n",
              "        docLink.innerHTML = docLinkHtml;\n",
              "        element.appendChild(docLink);\n",
              "      }\n",
              "    </script>\n",
              "  </div>\n",
              "\n",
              "\n",
              "<div id=\"df-eadd75a8-fa68-4744-8f82-7cf7098434b7\">\n",
              "  <button class=\"colab-df-quickchart\" onclick=\"quickchart('df-eadd75a8-fa68-4744-8f82-7cf7098434b7')\"\n",
              "            title=\"Suggest charts\"\n",
              "            style=\"display:none;\">\n",
              "\n",
              "<svg xmlns=\"http://www.w3.org/2000/svg\" height=\"24px\"viewBox=\"0 0 24 24\"\n",
              "     width=\"24px\">\n",
              "    <g>\n",
              "        <path d=\"M19 3H5c-1.1 0-2 .9-2 2v14c0 1.1.9 2 2 2h14c1.1 0 2-.9 2-2V5c0-1.1-.9-2-2-2zM9 17H7v-7h2v7zm4 0h-2V7h2v10zm4 0h-2v-4h2v4z\"/>\n",
              "    </g>\n",
              "</svg>\n",
              "  </button>\n",
              "\n",
              "<style>\n",
              "  .colab-df-quickchart {\n",
              "      --bg-color: #E8F0FE;\n",
              "      --fill-color: #1967D2;\n",
              "      --hover-bg-color: #E2EBFA;\n",
              "      --hover-fill-color: #174EA6;\n",
              "      --disabled-fill-color: #AAA;\n",
              "      --disabled-bg-color: #DDD;\n",
              "  }\n",
              "\n",
              "  [theme=dark] .colab-df-quickchart {\n",
              "      --bg-color: #3B4455;\n",
              "      --fill-color: #D2E3FC;\n",
              "      --hover-bg-color: #434B5C;\n",
              "      --hover-fill-color: #FFFFFF;\n",
              "      --disabled-bg-color: #3B4455;\n",
              "      --disabled-fill-color: #666;\n",
              "  }\n",
              "\n",
              "  .colab-df-quickchart {\n",
              "    background-color: var(--bg-color);\n",
              "    border: none;\n",
              "    border-radius: 50%;\n",
              "    cursor: pointer;\n",
              "    display: none;\n",
              "    fill: var(--fill-color);\n",
              "    height: 32px;\n",
              "    padding: 0;\n",
              "    width: 32px;\n",
              "  }\n",
              "\n",
              "  .colab-df-quickchart:hover {\n",
              "    background-color: var(--hover-bg-color);\n",
              "    box-shadow: 0 1px 2px rgba(60, 64, 67, 0.3), 0 1px 3px 1px rgba(60, 64, 67, 0.15);\n",
              "    fill: var(--button-hover-fill-color);\n",
              "  }\n",
              "\n",
              "  .colab-df-quickchart-complete:disabled,\n",
              "  .colab-df-quickchart-complete:disabled:hover {\n",
              "    background-color: var(--disabled-bg-color);\n",
              "    fill: var(--disabled-fill-color);\n",
              "    box-shadow: none;\n",
              "  }\n",
              "\n",
              "  .colab-df-spinner {\n",
              "    border: 2px solid var(--fill-color);\n",
              "    border-color: transparent;\n",
              "    border-bottom-color: var(--fill-color);\n",
              "    animation:\n",
              "      spin 1s steps(1) infinite;\n",
              "  }\n",
              "\n",
              "  @keyframes spin {\n",
              "    0% {\n",
              "      border-color: transparent;\n",
              "      border-bottom-color: var(--fill-color);\n",
              "      border-left-color: var(--fill-color);\n",
              "    }\n",
              "    20% {\n",
              "      border-color: transparent;\n",
              "      border-left-color: var(--fill-color);\n",
              "      border-top-color: var(--fill-color);\n",
              "    }\n",
              "    30% {\n",
              "      border-color: transparent;\n",
              "      border-left-color: var(--fill-color);\n",
              "      border-top-color: var(--fill-color);\n",
              "      border-right-color: var(--fill-color);\n",
              "    }\n",
              "    40% {\n",
              "      border-color: transparent;\n",
              "      border-right-color: var(--fill-color);\n",
              "      border-top-color: var(--fill-color);\n",
              "    }\n",
              "    60% {\n",
              "      border-color: transparent;\n",
              "      border-right-color: var(--fill-color);\n",
              "    }\n",
              "    80% {\n",
              "      border-color: transparent;\n",
              "      border-right-color: var(--fill-color);\n",
              "      border-bottom-color: var(--fill-color);\n",
              "    }\n",
              "    90% {\n",
              "      border-color: transparent;\n",
              "      border-bottom-color: var(--fill-color);\n",
              "    }\n",
              "  }\n",
              "</style>\n",
              "\n",
              "  <script>\n",
              "    async function quickchart(key) {\n",
              "      const quickchartButtonEl =\n",
              "        document.querySelector('#' + key + ' button');\n",
              "      quickchartButtonEl.disabled = true;  // To prevent multiple clicks.\n",
              "      quickchartButtonEl.classList.add('colab-df-spinner');\n",
              "      try {\n",
              "        const charts = await google.colab.kernel.invokeFunction(\n",
              "            'suggestCharts', [key], {});\n",
              "      } catch (error) {\n",
              "        console.error('Error during call to suggestCharts:', error);\n",
              "      }\n",
              "      quickchartButtonEl.classList.remove('colab-df-spinner');\n",
              "      quickchartButtonEl.classList.add('colab-df-quickchart-complete');\n",
              "    }\n",
              "    (() => {\n",
              "      let quickchartButtonEl =\n",
              "        document.querySelector('#df-eadd75a8-fa68-4744-8f82-7cf7098434b7 button');\n",
              "      quickchartButtonEl.style.display =\n",
              "        google.colab.kernel.accessAllowed ? 'block' : 'none';\n",
              "    })();\n",
              "  </script>\n",
              "</div>\n",
              "\n",
              "    </div>\n",
              "  </div>\n"
            ],
            "application/vnd.google.colaboratory.intrinsic+json": {
              "type": "dataframe",
              "variable_name": "application_df",
              "summary": "{\n  \"name\": \"application_df\",\n  \"rows\": 34299,\n  \"fields\": [\n    {\n      \"column\": \"EIN\",\n      \"properties\": {\n        \"dtype\": \"number\",\n        \"std\": 245147183,\n        \"min\": 10520599,\n        \"max\": 996086871,\n        \"num_unique_values\": 34299,\n        \"samples\": [\n          271598055,\n          900109768,\n          352562499\n        ],\n        \"semantic_type\": \"\",\n        \"description\": \"\"\n      }\n    },\n    {\n      \"column\": \"NAME\",\n      \"properties\": {\n        \"dtype\": \"string\",\n        \"num_unique_values\": 19568,\n        \"samples\": [\n          \"LOCAL 12 USW GOODYEAR INSTITUTE FORCAREER DEVELOPMENT\",\n          \"INTERNATION ASSOCIATION OF ELECTRICAL INSPECTORS\",\n          \"BRICKLAYERS & ALLIED CRAFTWORKERS LOCAL 13 VACATION FUND\"\n        ],\n        \"semantic_type\": \"\",\n        \"description\": \"\"\n      }\n    },\n    {\n      \"column\": \"APPLICATION_TYPE\",\n      \"properties\": {\n        \"dtype\": \"category\",\n        \"num_unique_values\": 17,\n        \"samples\": [\n          \"T10\",\n          \"T3\",\n          \"T6\"\n        ],\n        \"semantic_type\": \"\",\n        \"description\": \"\"\n      }\n    },\n    {\n      \"column\": \"AFFILIATION\",\n      \"properties\": {\n        \"dtype\": \"category\",\n        \"num_unique_values\": 6,\n        \"samples\": [\n          \"Independent\",\n          \"CompanySponsored\",\n          \"Other\"\n        ],\n        \"semantic_type\": \"\",\n        \"description\": \"\"\n      }\n    },\n    {\n      \"column\": \"CLASSIFICATION\",\n      \"properties\": {\n        \"dtype\": \"category\",\n        \"num_unique_values\": 71,\n        \"samples\": [\n          \"C1500\",\n          \"C1000\",\n          \"C1570\"\n        ],\n        \"semantic_type\": \"\",\n        \"description\": \"\"\n      }\n    },\n    {\n      \"column\": \"USE_CASE\",\n      \"properties\": {\n        \"dtype\": \"category\",\n        \"num_unique_values\": 5,\n        \"samples\": [\n          \"Preservation\",\n          \"Other\",\n          \"Heathcare\"\n        ],\n        \"semantic_type\": \"\",\n        \"description\": \"\"\n      }\n    },\n    {\n      \"column\": \"ORGANIZATION\",\n      \"properties\": {\n        \"dtype\": \"category\",\n        \"num_unique_values\": 4,\n        \"samples\": [\n          \"Co-operative\",\n          \"Corporation\",\n          \"Association\"\n        ],\n        \"semantic_type\": \"\",\n        \"description\": \"\"\n      }\n    },\n    {\n      \"column\": \"STATUS\",\n      \"properties\": {\n        \"dtype\": \"number\",\n        \"std\": 0,\n        \"min\": 0,\n        \"max\": 1,\n        \"num_unique_values\": 2,\n        \"samples\": [\n          0,\n          1\n        ],\n        \"semantic_type\": \"\",\n        \"description\": \"\"\n      }\n    },\n    {\n      \"column\": \"INCOME_AMT\",\n      \"properties\": {\n        \"dtype\": \"category\",\n        \"num_unique_values\": 9,\n        \"samples\": [\n          \"1M-5M\",\n          \"1-9999\"\n        ],\n        \"semantic_type\": \"\",\n        \"description\": \"\"\n      }\n    },\n    {\n      \"column\": \"SPECIAL_CONSIDERATIONS\",\n      \"properties\": {\n        \"dtype\": \"category\",\n        \"num_unique_values\": 2,\n        \"samples\": [\n          \"Y\",\n          \"N\"\n        ],\n        \"semantic_type\": \"\",\n        \"description\": \"\"\n      }\n    },\n    {\n      \"column\": \"ASK_AMT\",\n      \"properties\": {\n        \"dtype\": \"number\",\n        \"std\": 87130452,\n        \"min\": 5000,\n        \"max\": 8597806340,\n        \"num_unique_values\": 8747,\n        \"samples\": [\n          1328927,\n          42942\n        ],\n        \"semantic_type\": \"\",\n        \"description\": \"\"\n      }\n    },\n    {\n      \"column\": \"IS_SUCCESSFUL\",\n      \"properties\": {\n        \"dtype\": \"number\",\n        \"std\": 0,\n        \"min\": 0,\n        \"max\": 1,\n        \"num_unique_values\": 2,\n        \"samples\": [\n          0,\n          1\n        ],\n        \"semantic_type\": \"\",\n        \"description\": \"\"\n      }\n    }\n  ]\n}"
            }
          },
          "metadata": {},
          "execution_count": 1
        }
      ],
      "source": [
        "# Import our dependencies\n",
        "from sklearn.model_selection import train_test_split\n",
        "from sklearn.preprocessing import StandardScaler\n",
        "import pandas as pd\n",
        "import tensorflow as tf\n",
        "\n",
        "#  Import and read the charity_data.csv.\n",
        "import pandas as pd\n",
        "application_df = pd.read_csv(\"https://static.bc-edx.com/data/dl-1-2/m21/lms/starter/charity_data.csv\")\n",
        "application_df.head()"
      ]
    },
    {
      "cell_type": "code",
      "execution_count": 2,
      "metadata": {
        "id": "4HVTlTCcCq0p"
      },
      "outputs": [],
      "source": [
        "# Drop the non-beneficial ID columns, 'EIN' and 'NAME'.\n",
        "df = application_df.drop(columns=['EIN', 'NAME'])"
      ]
    },
    {
      "cell_type": "code",
      "execution_count": 3,
      "metadata": {
        "colab": {
          "base_uri": "https://localhost:8080/"
        },
        "id": "sSc7m2BUCq0p",
        "outputId": "679affe7-fa5c-4795-bc66-a829a4759773"
      },
      "outputs": [
        {
          "output_type": "execute_result",
          "data": {
            "text/plain": [
              "APPLICATION_TYPE            17\n",
              "AFFILIATION                  6\n",
              "CLASSIFICATION              71\n",
              "USE_CASE                     5\n",
              "ORGANIZATION                 4\n",
              "STATUS                       2\n",
              "INCOME_AMT                   9\n",
              "SPECIAL_CONSIDERATIONS       2\n",
              "ASK_AMT                   8747\n",
              "IS_SUCCESSFUL                2\n",
              "dtype: int64"
            ]
          },
          "metadata": {},
          "execution_count": 3
        }
      ],
      "source": [
        "# Determine the number of unique values in each column.\n",
        "df.nunique()"
      ]
    },
    {
      "cell_type": "code",
      "execution_count": 4,
      "metadata": {
        "colab": {
          "base_uri": "https://localhost:8080/"
        },
        "id": "HT6Jlxw_Cq0p",
        "outputId": "4c27f99d-50f6-4f23-b95b-9df29c354cbc"
      },
      "outputs": [
        {
          "output_type": "stream",
          "name": "stdout",
          "text": [
            "APPLICATION_TYPE\n",
            "T3     27037\n",
            "T4      1542\n",
            "T6      1216\n",
            "T5      1173\n",
            "T19     1065\n",
            "T8       737\n",
            "T7       725\n",
            "T10      528\n",
            "T9       156\n",
            "T13       66\n",
            "T12       27\n",
            "T2        16\n",
            "T25        3\n",
            "T14        3\n",
            "T29        2\n",
            "T15        2\n",
            "T17        1\n",
            "Name: count, dtype: int64\n"
          ]
        }
      ],
      "source": [
        "# Look at APPLICATION_TYPE value counts to identify and replace with \"Other\"\n",
        "\n",
        "# Get the value counts of APPLICATION_TYPE\n",
        "application_type_counts = df['APPLICATION_TYPE'].value_counts()\n",
        "\n",
        "# Display the value counts\n",
        "print(df['APPLICATION_TYPE'].value_counts())\n"
      ]
    },
    {
      "cell_type": "code",
      "execution_count": 5,
      "metadata": {
        "colab": {
          "base_uri": "https://localhost:8080/"
        },
        "id": "rDIOldHlCq0p",
        "outputId": "4d8d4db5-3cab-470d-f2ce-efc994fe06ea"
      },
      "outputs": [
        {
          "output_type": "execute_result",
          "data": {
            "text/plain": [
              "APPLICATION_TYPE\n",
              "T3       27037\n",
              "T4        1542\n",
              "T6        1216\n",
              "T5        1173\n",
              "T19       1065\n",
              "T8         737\n",
              "T7         725\n",
              "T10        528\n",
              "Other      276\n",
              "Name: count, dtype: int64"
            ]
          },
          "metadata": {},
          "execution_count": 5
        }
      ],
      "source": [
        "# Choose a cutoff value and create a list of application types to be replaced\n",
        "# use the variable name `application_types_to_replace`\n",
        "\n",
        "# Choose a cutoff value\n",
        "cutoff_value = 500\n",
        "\n",
        "# Create a list of application types to be replaced\n",
        "application_types_to_replace = application_type_counts[application_type_counts < cutoff_value].index.tolist()\n",
        "\n",
        "# Replace in dataframe\n",
        "for app in application_types_to_replace:\n",
        "    df['APPLICATION_TYPE'] = df['APPLICATION_TYPE'].replace(app,\"Other\")\n",
        "\n",
        "# Check to make sure replacement was successful\n",
        "df['APPLICATION_TYPE'].value_counts()"
      ]
    },
    {
      "cell_type": "code",
      "execution_count": 6,
      "metadata": {
        "colab": {
          "base_uri": "https://localhost:8080/"
        },
        "id": "hiQ5q283Cq0p",
        "outputId": "dfc481fe-862d-425f-f8cc-439826fdf556"
      },
      "outputs": [
        {
          "output_type": "stream",
          "name": "stdout",
          "text": [
            "CLASSIFICATION\n",
            "C1000    17326\n",
            "C2000     6074\n",
            "C1200     4837\n",
            "C3000     1918\n",
            "C2100     1883\n",
            "         ...  \n",
            "C4120        1\n",
            "C8210        1\n",
            "C2561        1\n",
            "C4500        1\n",
            "C2150        1\n",
            "Name: count, Length: 71, dtype: int64\n"
          ]
        }
      ],
      "source": [
        "# Look at CLASSIFICATION value counts to identify and replace with \"Other\"\n",
        "\n",
        "# Get the value counts of CLASSIFICATION\n",
        "classification_counts = df['CLASSIFICATION'].value_counts()\n",
        "\n",
        "# Display the value counts\n",
        "print(classification_counts)"
      ]
    },
    {
      "cell_type": "code",
      "execution_count": 7,
      "metadata": {
        "colab": {
          "base_uri": "https://localhost:8080/"
        },
        "id": "6BLQPynnCq0p",
        "outputId": "cee5c45a-a051-474d-a52a-76c47b05aa53"
      },
      "outputs": [
        {
          "output_type": "stream",
          "name": "stdout",
          "text": [
            "CLASSIFICATION\n",
            "C1000    17326\n",
            "C2000     6074\n",
            "C1200     4837\n",
            "C3000     1918\n",
            "C2100     1883\n",
            "C7000      777\n",
            "C1700      287\n",
            "C4000      194\n",
            "C5000      116\n",
            "C1270      114\n",
            "C2700      104\n",
            "C2800       95\n",
            "C7100       75\n",
            "C1300       58\n",
            "C1280       50\n",
            "C1230       36\n",
            "C1400       34\n",
            "C7200       32\n",
            "C2300       32\n",
            "C1240       30\n",
            "C8000       20\n",
            "C7120       18\n",
            "C1500       16\n",
            "C1800       15\n",
            "C6000       15\n",
            "C1250       14\n",
            "C8200       11\n",
            "C1238       10\n",
            "C1278       10\n",
            "C1235        9\n",
            "C1237        9\n",
            "C7210        7\n",
            "C2400        6\n",
            "C1720        6\n",
            "C4100        6\n",
            "C1257        5\n",
            "C1600        5\n",
            "C1260        3\n",
            "C2710        3\n",
            "C0           3\n",
            "C3200        2\n",
            "C1234        2\n",
            "C1246        2\n",
            "C1267        2\n",
            "C1256        2\n",
            "Name: count, dtype: int64\n"
          ]
        }
      ],
      "source": [
        "# You may find it helpful to look at CLASSIFICATION value counts >1\n",
        "\n",
        "# Get the value counts of CLASSIFICATION\n",
        "classification_counts = df['CLASSIFICATION'].value_counts()\n",
        "\n",
        "# Display the value counts greater than 1\n",
        "print(classification_counts[classification_counts > 1])"
      ]
    },
    {
      "cell_type": "code",
      "execution_count": 8,
      "metadata": {
        "colab": {
          "base_uri": "https://localhost:8080/"
        },
        "id": "MoCGDZfvCq0p",
        "outputId": "e1551a0b-67a9-4a01-d549-8ee9e923c5d3"
      },
      "outputs": [
        {
          "output_type": "execute_result",
          "data": {
            "text/plain": [
              "CLASSIFICATION\n",
              "C1000    17326\n",
              "C2000     6074\n",
              "C1200     4837\n",
              "Other     2261\n",
              "C3000     1918\n",
              "C2100     1883\n",
              "Name: count, dtype: int64"
            ]
          },
          "metadata": {},
          "execution_count": 8
        }
      ],
      "source": [
        "# Choose a cutoff value and create a list of classifications to be replaced\n",
        "# use the variable name `classifications_to_replace`\n",
        "\n",
        "# Choose a cutoff value\n",
        "cutoff_value = 1000\n",
        "\n",
        "# Create a list of classifications to be replaced\n",
        "classifications_to_replace = classification_counts[classification_counts < cutoff_value].index.tolist()\n",
        "\n",
        "\n",
        "# Replace in dataframe\n",
        "for cls in classifications_to_replace:\n",
        "    df['CLASSIFICATION'] = df['CLASSIFICATION'].replace(cls,\"Other\")\n",
        "\n",
        "# Check to make sure replacement was successful\n",
        "df['CLASSIFICATION'].value_counts()"
      ]
    },
    {
      "cell_type": "code",
      "execution_count": 9,
      "metadata": {
        "id": "Y8fvGiJECq0q"
      },
      "outputs": [],
      "source": [
        "# Convert categorical data to numeric with `pd.get_dummies`\n",
        "df = pd.get_dummies(df)"
      ]
    },
    {
      "cell_type": "code",
      "execution_count": 10,
      "metadata": {
        "id": "bwkU9woYCq0q"
      },
      "outputs": [],
      "source": [
        "# Split our preprocessed data into our features and target arrays\n",
        "X = df.drop(columns=['IS_SUCCESSFUL']).values.astype('float32')\n",
        "y = df['IS_SUCCESSFUL'].values.astype('int')\n",
        "\n",
        "# Split the preprocessed data into a training and testing dataset\n",
        "X_train, X_test, y_train, y_test = train_test_split(X, y, test_size=0.2, random_state=42)"
      ]
    },
    {
      "cell_type": "code",
      "execution_count": 11,
      "metadata": {
        "id": "RB9IZ2oyCq0q"
      },
      "outputs": [],
      "source": [
        "# Create a StandardScaler instances\n",
        "scaler = StandardScaler()\n",
        "\n",
        "# Fit the StandardScaler\n",
        "X_scaler = scaler.fit(X_train)\n",
        "\n",
        "# Scale the data\n",
        "X_train_scaled = X_scaler.transform(X_train)\n",
        "X_test_scaled = X_scaler.transform(X_test)"
      ]
    },
    {
      "cell_type": "markdown",
      "metadata": {
        "id": "3pSZqgSnCq0q"
      },
      "source": [
        "## Compile, Train and Evaluate the Model"
      ]
    },
    {
      "cell_type": "code",
      "execution_count": 28,
      "metadata": {
        "colab": {
          "base_uri": "https://localhost:8080/"
        },
        "id": "-FtStnrJCq0q",
        "outputId": "c32a6ce3-5652-4b4f-b412-9cc2c3394e62"
      },
      "outputs": [
        {
          "output_type": "stream",
          "name": "stdout",
          "text": [
            "Model: \"sequential_3\"\n",
            "_________________________________________________________________\n",
            " Layer (type)                Output Shape              Param #   \n",
            "=================================================================\n",
            " dense_6 (Dense)             (None, 100)               4400      \n",
            "                                                                 \n",
            " dense_7 (Dense)             (None, 50)                5050      \n",
            "                                                                 \n",
            " dense_8 (Dense)             (None, 1)                 51        \n",
            "                                                                 \n",
            "=================================================================\n",
            "Total params: 9501 (37.11 KB)\n",
            "Trainable params: 9501 (37.11 KB)\n",
            "Non-trainable params: 0 (0.00 Byte)\n",
            "_________________________________________________________________\n"
          ]
        }
      ],
      "source": [
        "# Define the model - deep neural net, i.e., the number of input features and hidden nodes for each layer.\n",
        "from tensorflow.keras.models import Sequential\n",
        "from tensorflow.keras.layers import Dense\n",
        "\n",
        "nn = tf.keras.models.Sequential()\n",
        "\n",
        "# Number of input features\n",
        "input_dim = X_train_scaled.shape[1]\n",
        "\n",
        "# First hidden layer\n",
        "nn.add(Dense(units=100, activation='relu', input_dim=input_dim))\n",
        "\n",
        "# Second hidden layer\n",
        "nn.add(Dense(units=50, activation='relu'))\n",
        "\n",
        "# Output layer\n",
        "nn.add(Dense(units=1, activation='sigmoid'))\n",
        "\n",
        "# Check the structure of the model\n",
        "nn.summary()"
      ]
    },
    {
      "cell_type": "markdown",
      "source": [],
      "metadata": {
        "id": "4OQ85Z6iV_0o"
      }
    },
    {
      "cell_type": "code",
      "execution_count": 29,
      "metadata": {
        "id": "QSyUSIhICq0q"
      },
      "outputs": [],
      "source": [
        "# Compile the model\n",
        "nn.compile(optimizer='adam', loss='binary_crossentropy', metrics=['accuracy'])"
      ]
    },
    {
      "cell_type": "code",
      "execution_count": 30,
      "metadata": {
        "colab": {
          "base_uri": "https://localhost:8080/"
        },
        "id": "mLHQsTC4Cq0q",
        "outputId": "71add7ac-e43b-45d2-bde9-2cf26f0c945d"
      },
      "outputs": [
        {
          "output_type": "stream",
          "name": "stdout",
          "text": [
            "Epoch 1/100\n",
            "858/858 [==============================] - 5s 5ms/step - loss: 0.5698 - accuracy: 0.7227 - val_loss: 0.5646 - val_accuracy: 0.7232\n",
            "Epoch 2/100\n",
            "858/858 [==============================] - 3s 3ms/step - loss: 0.5547 - accuracy: 0.7280 - val_loss: 0.5625 - val_accuracy: 0.7201\n",
            "Epoch 3/100\n",
            "858/858 [==============================] - 4s 4ms/step - loss: 0.5513 - accuracy: 0.7302 - val_loss: 0.5604 - val_accuracy: 0.7299\n",
            "Epoch 4/100\n",
            "858/858 [==============================] - 2s 3ms/step - loss: 0.5494 - accuracy: 0.7325 - val_loss: 0.5596 - val_accuracy: 0.7254\n",
            "Epoch 5/100\n",
            "858/858 [==============================] - 2s 3ms/step - loss: 0.5480 - accuracy: 0.7332 - val_loss: 0.5561 - val_accuracy: 0.7294\n",
            "Epoch 6/100\n",
            "858/858 [==============================] - 2s 3ms/step - loss: 0.5476 - accuracy: 0.7308 - val_loss: 0.5560 - val_accuracy: 0.7236\n",
            "Epoch 7/100\n",
            "858/858 [==============================] - 2s 3ms/step - loss: 0.5468 - accuracy: 0.7322 - val_loss: 0.5579 - val_accuracy: 0.7248\n",
            "Epoch 8/100\n",
            "858/858 [==============================] - 3s 3ms/step - loss: 0.5461 - accuracy: 0.7326 - val_loss: 0.5600 - val_accuracy: 0.7252\n",
            "Epoch 9/100\n",
            "858/858 [==============================] - 3s 4ms/step - loss: 0.5456 - accuracy: 0.7319 - val_loss: 0.5577 - val_accuracy: 0.7290\n",
            "Epoch 10/100\n",
            "858/858 [==============================] - 2s 3ms/step - loss: 0.5450 - accuracy: 0.7337 - val_loss: 0.5590 - val_accuracy: 0.7265\n",
            "Epoch 11/100\n",
            "858/858 [==============================] - 2s 3ms/step - loss: 0.5446 - accuracy: 0.7347 - val_loss: 0.5561 - val_accuracy: 0.7273\n",
            "Epoch 12/100\n",
            "858/858 [==============================] - 3s 3ms/step - loss: 0.5432 - accuracy: 0.7353 - val_loss: 0.5593 - val_accuracy: 0.7265\n",
            "Epoch 13/100\n",
            "858/858 [==============================] - 5s 6ms/step - loss: 0.5436 - accuracy: 0.7355 - val_loss: 0.5600 - val_accuracy: 0.7259\n",
            "Epoch 14/100\n",
            "858/858 [==============================] - 5s 6ms/step - loss: 0.5431 - accuracy: 0.7345 - val_loss: 0.5574 - val_accuracy: 0.7283\n",
            "Epoch 15/100\n",
            "858/858 [==============================] - 4s 4ms/step - loss: 0.5429 - accuracy: 0.7353 - val_loss: 0.5578 - val_accuracy: 0.7262\n",
            "Epoch 16/100\n",
            "858/858 [==============================] - 3s 3ms/step - loss: 0.5421 - accuracy: 0.7358 - val_loss: 0.5581 - val_accuracy: 0.7276\n",
            "Epoch 17/100\n",
            "858/858 [==============================] - 3s 4ms/step - loss: 0.5422 - accuracy: 0.7363 - val_loss: 0.5582 - val_accuracy: 0.7261\n",
            "Epoch 18/100\n",
            "858/858 [==============================] - 2s 3ms/step - loss: 0.5418 - accuracy: 0.7350 - val_loss: 0.5604 - val_accuracy: 0.7243\n",
            "Epoch 19/100\n",
            "858/858 [==============================] - 2s 3ms/step - loss: 0.5415 - accuracy: 0.7370 - val_loss: 0.5573 - val_accuracy: 0.7273\n",
            "Epoch 20/100\n",
            "858/858 [==============================] - 3s 3ms/step - loss: 0.5409 - accuracy: 0.7385 - val_loss: 0.5592 - val_accuracy: 0.7236\n",
            "Epoch 21/100\n",
            "858/858 [==============================] - 3s 3ms/step - loss: 0.5414 - accuracy: 0.7360 - val_loss: 0.5583 - val_accuracy: 0.7281\n",
            "Epoch 22/100\n",
            "858/858 [==============================] - 4s 4ms/step - loss: 0.5408 - accuracy: 0.7360 - val_loss: 0.5576 - val_accuracy: 0.7249\n",
            "Epoch 23/100\n",
            "858/858 [==============================] - 2s 3ms/step - loss: 0.5410 - accuracy: 0.7367 - val_loss: 0.5581 - val_accuracy: 0.7281\n",
            "Epoch 24/100\n",
            "858/858 [==============================] - 2s 3ms/step - loss: 0.5402 - accuracy: 0.7380 - val_loss: 0.5594 - val_accuracy: 0.7281\n",
            "Epoch 25/100\n",
            "858/858 [==============================] - 2s 3ms/step - loss: 0.5403 - accuracy: 0.7361 - val_loss: 0.5587 - val_accuracy: 0.7243\n",
            "Epoch 26/100\n",
            "858/858 [==============================] - 2s 3ms/step - loss: 0.5402 - accuracy: 0.7375 - val_loss: 0.5577 - val_accuracy: 0.7270\n",
            "Epoch 27/100\n",
            "858/858 [==============================] - 4s 4ms/step - loss: 0.5395 - accuracy: 0.7371 - val_loss: 0.5603 - val_accuracy: 0.7229\n",
            "Epoch 28/100\n",
            "858/858 [==============================] - 2s 3ms/step - loss: 0.5397 - accuracy: 0.7377 - val_loss: 0.5585 - val_accuracy: 0.7251\n",
            "Epoch 29/100\n",
            "858/858 [==============================] - 2s 3ms/step - loss: 0.5395 - accuracy: 0.7381 - val_loss: 0.5588 - val_accuracy: 0.7258\n",
            "Epoch 30/100\n",
            "858/858 [==============================] - 2s 3ms/step - loss: 0.5393 - accuracy: 0.7377 - val_loss: 0.5595 - val_accuracy: 0.7249\n",
            "Epoch 31/100\n",
            "858/858 [==============================] - 2s 3ms/step - loss: 0.5391 - accuracy: 0.7368 - val_loss: 0.5610 - val_accuracy: 0.7224\n",
            "Epoch 32/100\n",
            "858/858 [==============================] - 3s 3ms/step - loss: 0.5393 - accuracy: 0.7376 - val_loss: 0.5573 - val_accuracy: 0.7284\n",
            "Epoch 33/100\n",
            "858/858 [==============================] - 3s 3ms/step - loss: 0.5388 - accuracy: 0.7374 - val_loss: 0.5593 - val_accuracy: 0.7286\n",
            "Epoch 34/100\n",
            "858/858 [==============================] - 2s 3ms/step - loss: 0.5391 - accuracy: 0.7387 - val_loss: 0.5601 - val_accuracy: 0.7262\n",
            "Epoch 35/100\n",
            "858/858 [==============================] - 2s 3ms/step - loss: 0.5386 - accuracy: 0.7383 - val_loss: 0.5590 - val_accuracy: 0.7274\n",
            "Epoch 36/100\n",
            "858/858 [==============================] - 2s 3ms/step - loss: 0.5386 - accuracy: 0.7379 - val_loss: 0.5605 - val_accuracy: 0.7229\n",
            "Epoch 37/100\n",
            "858/858 [==============================] - 3s 3ms/step - loss: 0.5385 - accuracy: 0.7383 - val_loss: 0.5588 - val_accuracy: 0.7248\n",
            "Epoch 38/100\n",
            "858/858 [==============================] - 3s 4ms/step - loss: 0.5382 - accuracy: 0.7387 - val_loss: 0.5601 - val_accuracy: 0.7259\n",
            "Epoch 39/100\n",
            "858/858 [==============================] - 2s 3ms/step - loss: 0.5378 - accuracy: 0.7391 - val_loss: 0.5590 - val_accuracy: 0.7267\n",
            "Epoch 40/100\n",
            "858/858 [==============================] - 2s 3ms/step - loss: 0.5377 - accuracy: 0.7376 - val_loss: 0.5603 - val_accuracy: 0.7258\n",
            "Epoch 41/100\n",
            "858/858 [==============================] - 2s 3ms/step - loss: 0.5377 - accuracy: 0.7384 - val_loss: 0.5599 - val_accuracy: 0.7258\n",
            "Epoch 42/100\n",
            "858/858 [==============================] - 2s 3ms/step - loss: 0.5374 - accuracy: 0.7382 - val_loss: 0.5603 - val_accuracy: 0.7249\n",
            "Epoch 43/100\n",
            "858/858 [==============================] - 4s 4ms/step - loss: 0.5375 - accuracy: 0.7385 - val_loss: 0.5615 - val_accuracy: 0.7248\n",
            "Epoch 44/100\n",
            "858/858 [==============================] - 3s 3ms/step - loss: 0.5374 - accuracy: 0.7385 - val_loss: 0.5629 - val_accuracy: 0.7267\n",
            "Epoch 45/100\n",
            "858/858 [==============================] - 2s 3ms/step - loss: 0.5374 - accuracy: 0.7387 - val_loss: 0.5622 - val_accuracy: 0.7268\n",
            "Epoch 46/100\n",
            "858/858 [==============================] - 2s 3ms/step - loss: 0.5372 - accuracy: 0.7377 - val_loss: 0.5596 - val_accuracy: 0.7261\n",
            "Epoch 47/100\n",
            "858/858 [==============================] - 2s 3ms/step - loss: 0.5370 - accuracy: 0.7383 - val_loss: 0.5606 - val_accuracy: 0.7277\n",
            "Epoch 48/100\n",
            "858/858 [==============================] - 4s 5ms/step - loss: 0.5369 - accuracy: 0.7386 - val_loss: 0.5620 - val_accuracy: 0.7254\n",
            "Epoch 49/100\n",
            "858/858 [==============================] - 2s 3ms/step - loss: 0.5370 - accuracy: 0.7386 - val_loss: 0.5643 - val_accuracy: 0.7261\n",
            "Epoch 50/100\n",
            "858/858 [==============================] - 3s 3ms/step - loss: 0.5366 - accuracy: 0.7393 - val_loss: 0.5620 - val_accuracy: 0.7248\n",
            "Epoch 51/100\n",
            "858/858 [==============================] - 2s 3ms/step - loss: 0.5367 - accuracy: 0.7382 - val_loss: 0.5616 - val_accuracy: 0.7278\n",
            "Epoch 52/100\n",
            "858/858 [==============================] - 2s 3ms/step - loss: 0.5366 - accuracy: 0.7399 - val_loss: 0.5618 - val_accuracy: 0.7265\n",
            "Epoch 53/100\n",
            "858/858 [==============================] - 4s 4ms/step - loss: 0.5362 - accuracy: 0.7396 - val_loss: 0.5624 - val_accuracy: 0.7268\n",
            "Epoch 54/100\n",
            "858/858 [==============================] - 3s 3ms/step - loss: 0.5364 - accuracy: 0.7386 - val_loss: 0.5644 - val_accuracy: 0.7258\n",
            "Epoch 55/100\n",
            "858/858 [==============================] - 2s 3ms/step - loss: 0.5370 - accuracy: 0.7388 - val_loss: 0.5615 - val_accuracy: 0.7281\n",
            "Epoch 56/100\n",
            "858/858 [==============================] - 2s 3ms/step - loss: 0.5361 - accuracy: 0.7398 - val_loss: 0.5632 - val_accuracy: 0.7276\n",
            "Epoch 57/100\n",
            "858/858 [==============================] - 2s 3ms/step - loss: 0.5356 - accuracy: 0.7389 - val_loss: 0.5610 - val_accuracy: 0.7271\n",
            "Epoch 58/100\n",
            "858/858 [==============================] - 4s 4ms/step - loss: 0.5364 - accuracy: 0.7391 - val_loss: 0.5609 - val_accuracy: 0.7280\n",
            "Epoch 59/100\n",
            "858/858 [==============================] - 3s 3ms/step - loss: 0.5359 - accuracy: 0.7393 - val_loss: 0.5621 - val_accuracy: 0.7274\n",
            "Epoch 60/100\n",
            "858/858 [==============================] - 2s 3ms/step - loss: 0.5356 - accuracy: 0.7390 - val_loss: 0.5647 - val_accuracy: 0.7255\n",
            "Epoch 61/100\n",
            "858/858 [==============================] - 2s 3ms/step - loss: 0.5359 - accuracy: 0.7395 - val_loss: 0.5618 - val_accuracy: 0.7257\n",
            "Epoch 62/100\n",
            "858/858 [==============================] - 3s 3ms/step - loss: 0.5355 - accuracy: 0.7392 - val_loss: 0.5641 - val_accuracy: 0.7276\n",
            "Epoch 63/100\n",
            "858/858 [==============================] - 3s 4ms/step - loss: 0.5352 - accuracy: 0.7398 - val_loss: 0.5631 - val_accuracy: 0.7277\n",
            "Epoch 64/100\n",
            "858/858 [==============================] - 3s 3ms/step - loss: 0.5357 - accuracy: 0.7395 - val_loss: 0.5642 - val_accuracy: 0.7261\n",
            "Epoch 65/100\n",
            "858/858 [==============================] - 2s 3ms/step - loss: 0.5353 - accuracy: 0.7400 - val_loss: 0.5642 - val_accuracy: 0.7255\n",
            "Epoch 66/100\n",
            "858/858 [==============================] - 2s 3ms/step - loss: 0.5350 - accuracy: 0.7397 - val_loss: 0.5662 - val_accuracy: 0.7259\n",
            "Epoch 67/100\n",
            "858/858 [==============================] - 2s 3ms/step - loss: 0.5355 - accuracy: 0.7393 - val_loss: 0.5633 - val_accuracy: 0.7274\n",
            "Epoch 68/100\n",
            "858/858 [==============================] - 4s 4ms/step - loss: 0.5353 - accuracy: 0.7395 - val_loss: 0.5655 - val_accuracy: 0.7276\n",
            "Epoch 69/100\n",
            "858/858 [==============================] - 2s 3ms/step - loss: 0.5353 - accuracy: 0.7392 - val_loss: 0.5626 - val_accuracy: 0.7271\n",
            "Epoch 70/100\n",
            "858/858 [==============================] - 2s 3ms/step - loss: 0.5350 - accuracy: 0.7400 - val_loss: 0.5655 - val_accuracy: 0.7267\n",
            "Epoch 71/100\n",
            "858/858 [==============================] - 2s 3ms/step - loss: 0.5352 - accuracy: 0.7401 - val_loss: 0.5646 - val_accuracy: 0.7258\n",
            "Epoch 72/100\n",
            "858/858 [==============================] - 2s 3ms/step - loss: 0.5352 - accuracy: 0.7402 - val_loss: 0.5632 - val_accuracy: 0.7268\n",
            "Epoch 73/100\n",
            "858/858 [==============================] - 3s 4ms/step - loss: 0.5350 - accuracy: 0.7397 - val_loss: 0.5650 - val_accuracy: 0.7278\n",
            "Epoch 74/100\n",
            "858/858 [==============================] - 2s 3ms/step - loss: 0.5354 - accuracy: 0.7399 - val_loss: 0.5669 - val_accuracy: 0.7264\n",
            "Epoch 75/100\n",
            "858/858 [==============================] - 2s 3ms/step - loss: 0.5350 - accuracy: 0.7400 - val_loss: 0.5650 - val_accuracy: 0.7278\n",
            "Epoch 76/100\n",
            "858/858 [==============================] - 2s 3ms/step - loss: 0.5348 - accuracy: 0.7402 - val_loss: 0.5668 - val_accuracy: 0.7273\n",
            "Epoch 77/100\n",
            "858/858 [==============================] - 2s 3ms/step - loss: 0.5344 - accuracy: 0.7400 - val_loss: 0.5659 - val_accuracy: 0.7252\n",
            "Epoch 78/100\n",
            "858/858 [==============================] - 3s 4ms/step - loss: 0.5349 - accuracy: 0.7395 - val_loss: 0.5664 - val_accuracy: 0.7273\n",
            "Epoch 79/100\n",
            "858/858 [==============================] - 3s 3ms/step - loss: 0.5340 - accuracy: 0.7403 - val_loss: 0.5677 - val_accuracy: 0.7262\n",
            "Epoch 80/100\n",
            "858/858 [==============================] - 2s 3ms/step - loss: 0.5346 - accuracy: 0.7395 - val_loss: 0.5684 - val_accuracy: 0.7262\n",
            "Epoch 81/100\n",
            "858/858 [==============================] - 3s 3ms/step - loss: 0.5343 - accuracy: 0.7404 - val_loss: 0.5713 - val_accuracy: 0.7264\n",
            "Epoch 82/100\n",
            "858/858 [==============================] - 2s 3ms/step - loss: 0.5350 - accuracy: 0.7404 - val_loss: 0.5650 - val_accuracy: 0.7274\n",
            "Epoch 83/100\n",
            "858/858 [==============================] - 3s 4ms/step - loss: 0.5347 - accuracy: 0.7401 - val_loss: 0.5673 - val_accuracy: 0.7274\n",
            "Epoch 84/100\n",
            "858/858 [==============================] - 3s 3ms/step - loss: 0.5342 - accuracy: 0.7408 - val_loss: 0.5676 - val_accuracy: 0.7267\n",
            "Epoch 85/100\n",
            "858/858 [==============================] - 2s 3ms/step - loss: 0.5346 - accuracy: 0.7400 - val_loss: 0.5683 - val_accuracy: 0.7271\n",
            "Epoch 86/100\n",
            "858/858 [==============================] - 2s 3ms/step - loss: 0.5339 - accuracy: 0.7402 - val_loss: 0.5708 - val_accuracy: 0.7267\n",
            "Epoch 87/100\n",
            "858/858 [==============================] - 3s 3ms/step - loss: 0.5339 - accuracy: 0.7405 - val_loss: 0.5696 - val_accuracy: 0.7281\n",
            "Epoch 88/100\n",
            "858/858 [==============================] - 4s 4ms/step - loss: 0.5339 - accuracy: 0.7404 - val_loss: 0.5694 - val_accuracy: 0.7258\n",
            "Epoch 89/100\n",
            "858/858 [==============================] - 3s 3ms/step - loss: 0.5339 - accuracy: 0.7399 - val_loss: 0.5708 - val_accuracy: 0.7278\n",
            "Epoch 90/100\n",
            "858/858 [==============================] - 2s 3ms/step - loss: 0.5340 - accuracy: 0.7403 - val_loss: 0.5709 - val_accuracy: 0.7280\n",
            "Epoch 91/100\n",
            "858/858 [==============================] - 2s 3ms/step - loss: 0.5343 - accuracy: 0.7404 - val_loss: 0.5705 - val_accuracy: 0.7265\n",
            "Epoch 92/100\n",
            "858/858 [==============================] - 3s 3ms/step - loss: 0.5341 - accuracy: 0.7407 - val_loss: 0.5701 - val_accuracy: 0.7262\n",
            "Epoch 93/100\n",
            "858/858 [==============================] - 3s 4ms/step - loss: 0.5343 - accuracy: 0.7402 - val_loss: 0.5709 - val_accuracy: 0.7278\n",
            "Epoch 94/100\n",
            "858/858 [==============================] - 3s 4ms/step - loss: 0.5336 - accuracy: 0.7402 - val_loss: 0.5733 - val_accuracy: 0.7264\n",
            "Epoch 95/100\n",
            "858/858 [==============================] - 2s 3ms/step - loss: 0.5343 - accuracy: 0.7401 - val_loss: 0.5722 - val_accuracy: 0.7273\n",
            "Epoch 96/100\n",
            "858/858 [==============================] - 2s 3ms/step - loss: 0.5332 - accuracy: 0.7407 - val_loss: 0.5748 - val_accuracy: 0.7276\n",
            "Epoch 97/100\n",
            "858/858 [==============================] - 2s 3ms/step - loss: 0.5335 - accuracy: 0.7397 - val_loss: 0.5722 - val_accuracy: 0.7254\n",
            "Epoch 98/100\n",
            "858/858 [==============================] - 3s 3ms/step - loss: 0.5336 - accuracy: 0.7399 - val_loss: 0.5690 - val_accuracy: 0.7261\n",
            "Epoch 99/100\n",
            "858/858 [==============================] - 3s 3ms/step - loss: 0.5337 - accuracy: 0.7409 - val_loss: 0.5712 - val_accuracy: 0.7280\n",
            "Epoch 100/100\n",
            "858/858 [==============================] - 2s 3ms/step - loss: 0.5335 - accuracy: 0.7406 - val_loss: 0.5720 - val_accuracy: 0.7267\n"
          ]
        }
      ],
      "source": [
        "# Train the model\n",
        "history = nn.fit(X_train_scaled, y_train, epochs=100, batch_size=32, validation_data=(X_test_scaled, y_test))\n"
      ]
    },
    {
      "cell_type": "code",
      "execution_count": 31,
      "metadata": {
        "colab": {
          "base_uri": "https://localhost:8080/"
        },
        "id": "XXh0TSlICq0r",
        "outputId": "a629b021-5f58-4622-f764-b6f84a5af281"
      },
      "outputs": [
        {
          "output_type": "stream",
          "name": "stdout",
          "text": [
            "215/215 - 0s - loss: 0.5720 - accuracy: 0.7267 - 299ms/epoch - 1ms/step\n",
            "Loss: 0.5720340013504028, Accuracy: 0.7266764044761658\n"
          ]
        }
      ],
      "source": [
        "# Evaluate the model using the test data\n",
        "model_loss, model_accuracy = nn.evaluate(X_test_scaled,y_test,verbose=2)\n",
        "print(f\"Loss: {model_loss}, Accuracy: {model_accuracy}\")"
      ]
    },
    {
      "cell_type": "code",
      "execution_count": 32,
      "metadata": {
        "colab": {
          "base_uri": "https://localhost:8080/"
        },
        "id": "ld_819LwCq0r",
        "outputId": "7faddeb8-d351-450a-aa32-fbaa7f5e9e83"
      },
      "outputs": [
        {
          "output_type": "stream",
          "name": "stderr",
          "text": [
            "/usr/local/lib/python3.10/dist-packages/keras/src/engine/training.py:3103: UserWarning: You are saving your model as an HDF5 file via `model.save()`. This file format is considered legacy. We recommend using instead the native Keras format, e.g. `model.save('my_model.keras')`.\n",
            "  saving_api.save_model(\n"
          ]
        }
      ],
      "source": [
        "# Export our model to HDF5 file\n",
        "nn.save('AlphabetSoupCharity_Optimization_2.h5')\n"
      ]
    }
  ],
  "metadata": {
    "kernelspec": {
      "display_name": "Python 3",
      "language": "python",
      "name": "python3"
    },
    "language_info": {
      "codemirror_mode": {
        "name": "ipython",
        "version": 3
      },
      "file_extension": ".py",
      "mimetype": "text/x-python",
      "name": "python",
      "nbconvert_exporter": "python",
      "pygments_lexer": "ipython3",
      "version": "3.-1.-1"
    },
    "vscode": {
      "interpreter": {
        "hash": "31f2aee4e71d21fbe5cf8b01ff0e069b9275f58929596ceb00d14d90e3e16cd6"
      }
    },
    "colab": {
      "provenance": []
    }
  },
  "nbformat": 4,
  "nbformat_minor": 0
}